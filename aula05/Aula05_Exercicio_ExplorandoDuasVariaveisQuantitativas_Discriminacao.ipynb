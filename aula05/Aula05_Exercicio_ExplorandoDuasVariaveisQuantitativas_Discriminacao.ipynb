{
 "cells": [
  {
   "cell_type": "markdown",
   "metadata": {},
   "source": [
    "___\n",
    "# Exercício: Análise Exploratória - Associação entre duas Variáveis Quantitativas\n",
    "___\n",
    "\n",
    "## Aula 05"
   ]
  },
  {
   "cell_type": "markdown",
   "metadata": {},
   "source": [
    "<div id=\"indice\"></div>\n",
    "\n",
    "## Índice\n",
    "\n",
    "- [Discriminação Salarial](#discriminacao-salarial)\n",
    "    - [Exercício 1](#ex1) **- APS2 disponível no Blackboard**\n",
    "    - [Exercício 2](#ex2) \n",
    "    - [Exercício 3](#ex3) **- APS2 disponível no Blackboard**\n",
    "    - [Exercício 4](#ex4) **- APS2 disponível no Blackboard**\n",
    "    - [Exercício 5](#ex5) **- APS2 disponível no Blackboard**\n",
    "    - [Exercício 6](#ex6) **- APS2 disponível no Blackboard**\n",
    "    - [Exercício 7](#ex7)\n",
    "    - [Exercício 8](#ex8)\n",
    "    - [Exercício 9 [EXTRA]](#ex9)\n",
    "    - [Exercício 10 [EXTRA]](#ex10)\n",
    "    - [Exercício 11 [EXTRA]](#ex11)"
   ]
  },
  {
   "cell_type": "code",
   "execution_count": 1,
   "metadata": {},
   "outputs": [
    {
     "name": "stdout",
     "output_type": "stream",
     "text": [
      "Esperamos trabalhar no diretório\n",
      "c:\\Users\\lucas\\OneDrive\\Documentos\\Cdados\\CD22-2\\aula05\n"
     ]
    }
   ],
   "source": [
    "#%matplotlib inline\n",
    "import pandas as pd\n",
    "import matplotlib.pyplot as plt\n",
    "import numpy as np\n",
    "import os\n",
    "\n",
    "print('Esperamos trabalhar no diretório')\n",
    "print(os.getcwd())"
   ]
  },
  {
   "cell_type": "markdown",
   "metadata": {},
   "source": [
    "___\n",
    "<div id=\"discriminacao-salarial\"></div>\n",
    "\n",
    "# Discriminação Salarial\n",
    "\n",
    "<img src=\"disparidade-salarial.jpg\" height=\"400\">\n",
    "\n",
    "Fonte: extraído da internet"
   ]
  },
  {
   "cell_type": "markdown",
   "metadata": {},
   "source": [
    "Uma empresa está sendo **acusada de pagar um salário maior para os homens do que para as mulheres**. \n",
    "Para justificar a acusação, apresentou-se uma lista de salários de uma amostra de funcionários. \n",
    "**Essa empresa tem motivos para se preocupar?**\n",
    "\n",
    "A base de dados `Discriminação.xlsx` apresenta, para cada funcionário, as variáveis:\n",
    "\n",
    "1. Sexo: `'fem'` ou `'masc'`;\n",
    "2. Anos: anos no emprego; e \n",
    "3. Salario: remuneração mensal, em milhares de reais. \n"
   ]
  },
  {
   "cell_type": "code",
   "execution_count": 2,
   "metadata": {},
   "outputs": [],
   "source": [
    "dados = pd.read_excel('Discriminacao.xlsx')"
   ]
  },
  {
   "cell_type": "code",
   "execution_count": 3,
   "metadata": {},
   "outputs": [
    {
     "data": {
      "text/html": [
       "<div>\n",
       "<style scoped>\n",
       "    .dataframe tbody tr th:only-of-type {\n",
       "        vertical-align: middle;\n",
       "    }\n",
       "\n",
       "    .dataframe tbody tr th {\n",
       "        vertical-align: top;\n",
       "    }\n",
       "\n",
       "    .dataframe thead th {\n",
       "        text-align: right;\n",
       "    }\n",
       "</style>\n",
       "<table border=\"1\" class=\"dataframe\">\n",
       "  <thead>\n",
       "    <tr style=\"text-align: right;\">\n",
       "      <th></th>\n",
       "      <th>Sexo</th>\n",
       "      <th>Anos</th>\n",
       "      <th>Salario</th>\n",
       "    </tr>\n",
       "  </thead>\n",
       "  <tbody>\n",
       "    <tr>\n",
       "      <th>0</th>\n",
       "      <td>fem</td>\n",
       "      <td>9</td>\n",
       "      <td>39</td>\n",
       "    </tr>\n",
       "    <tr>\n",
       "      <th>1</th>\n",
       "      <td>fem</td>\n",
       "      <td>6</td>\n",
       "      <td>36</td>\n",
       "    </tr>\n",
       "    <tr>\n",
       "      <th>2</th>\n",
       "      <td>fem</td>\n",
       "      <td>10</td>\n",
       "      <td>40</td>\n",
       "    </tr>\n",
       "    <tr>\n",
       "      <th>3</th>\n",
       "      <td>fem</td>\n",
       "      <td>0</td>\n",
       "      <td>24</td>\n",
       "    </tr>\n",
       "    <tr>\n",
       "      <th>4</th>\n",
       "      <td>fem</td>\n",
       "      <td>9</td>\n",
       "      <td>36</td>\n",
       "    </tr>\n",
       "  </tbody>\n",
       "</table>\n",
       "</div>"
      ],
      "text/plain": [
       "  Sexo  Anos  Salario\n",
       "0  fem     9       39\n",
       "1  fem     6       36\n",
       "2  fem    10       40\n",
       "3  fem     0       24\n",
       "4  fem     9       36"
      ]
     },
     "execution_count": 3,
     "metadata": {},
     "output_type": "execute_result"
    }
   ],
   "source": [
    "dados.head()"
   ]
  },
  {
   "cell_type": "markdown",
   "metadata": {},
   "source": [
    "___\n",
    "\n",
    "<div id=\"ex1\"></div>\n",
    "\n",
    "### EXERCÍCIO 1:\n",
    "\n",
    "Vamos começar com uma análise descritiva utilizando as ferramentas estatísticas e computacionais que vimos até o momento. Faça essa análise com olhar na preocupação da empresa. Imprima as medidas resumo de posição (média, quartis, máximo, mínimo) e de dispersão (desvio padrão) para o `Salario` dos seguintes grupos:\n",
    "\n",
    "1. Conjunto de dados inteiro\n",
    "2. Somente mulheres\n",
    "3. Somente homens\n",
    "\n",
    "**Preencha os valores das 3 médias na questão 1 da APS2, no Blackboard**."
   ]
  },
  {
   "cell_type": "code",
   "execution_count": 4,
   "metadata": {},
   "outputs": [],
   "source": [
    "dados.Sexo = dados.Sexo.astype('category')\n",
    "dados.Sexo.cat.categories = (['fem', 'masc'])\n",
    "\n",
    "dados_fem = dados.loc[dados['Sexo'] == 'fem',:]\n",
    "dados_masc = dados.loc[dados['Sexo'] == 'masc',:]\n",
    "\n",
    "sal = dados['Salario']\n",
    "sal_fem = dados_fem['Salario']\n",
    "sal_masc = dados_masc['Salario']"
   ]
  },
  {
   "cell_type": "code",
   "execution_count": 5,
   "metadata": {},
   "outputs": [
    {
     "data": {
      "text/html": [
       "<div>\n",
       "<style scoped>\n",
       "    .dataframe tbody tr th:only-of-type {\n",
       "        vertical-align: middle;\n",
       "    }\n",
       "\n",
       "    .dataframe tbody tr th {\n",
       "        vertical-align: top;\n",
       "    }\n",
       "\n",
       "    .dataframe thead th {\n",
       "        text-align: right;\n",
       "    }\n",
       "</style>\n",
       "<table border=\"1\" class=\"dataframe\">\n",
       "  <thead>\n",
       "    <tr style=\"text-align: right;\">\n",
       "      <th></th>\n",
       "      <th>Salario</th>\n",
       "    </tr>\n",
       "  </thead>\n",
       "  <tbody>\n",
       "    <tr>\n",
       "      <th>count</th>\n",
       "      <td>35.000</td>\n",
       "    </tr>\n",
       "    <tr>\n",
       "      <th>mean</th>\n",
       "      <td>40.971</td>\n",
       "    </tr>\n",
       "    <tr>\n",
       "      <th>std</th>\n",
       "      <td>11.734</td>\n",
       "    </tr>\n",
       "    <tr>\n",
       "      <th>min</th>\n",
       "      <td>24.000</td>\n",
       "    </tr>\n",
       "    <tr>\n",
       "      <th>25%</th>\n",
       "      <td>33.000</td>\n",
       "    </tr>\n",
       "    <tr>\n",
       "      <th>50%</th>\n",
       "      <td>39.000</td>\n",
       "    </tr>\n",
       "    <tr>\n",
       "      <th>75%</th>\n",
       "      <td>47.000</td>\n",
       "    </tr>\n",
       "    <tr>\n",
       "      <th>max</th>\n",
       "      <td>69.000</td>\n",
       "    </tr>\n",
       "  </tbody>\n",
       "</table>\n",
       "</div>"
      ],
      "text/plain": [
       "       Salario\n",
       "count   35.000\n",
       "mean    40.971\n",
       "std     11.734\n",
       "min     24.000\n",
       "25%     33.000\n",
       "50%     39.000\n",
       "75%     47.000\n",
       "max     69.000"
      ]
     },
     "execution_count": 5,
     "metadata": {},
     "output_type": "execute_result"
    }
   ],
   "source": [
    "sal.describe().round(3).to_frame()\n",
    "sal_fem.describe().round(3).to_frame()\n",
    "sal_masc.describe().round(3).to_frame()\n",
    "#dados.groupby('Sexo').describe().round(3)"
   ]
  },
  {
   "cell_type": "markdown",
   "metadata": {},
   "source": [
    "<div id=\"ex2\"></div>\n",
    "\n",
    "### EXERCÍCIO 2:\n",
    "\n",
    "Baseando-se nos resultados acima, que indícios você pode formular quanto a suspeita de que a empresa está pagando salários mais baixos às mulheres?"
   ]
  },
  {
   "cell_type": "raw",
   "metadata": {},
   "source": [
    "Parece ser uma suspeita válida"
   ]
  },
  {
   "cell_type": "markdown",
   "metadata": {},
   "source": [
    "<div id=\"ex3\"></div>\n",
    "\n",
    "### EXERCÍCIO 3:\n",
    "\n",
    "Calcule os coeficientes de covariância entre as variáveis `Anos` e `Salario` para as mulheres e para os homens, separadamente. **Preencha os dois valores na questão 2 da APS2, no Blackboard**."
   ]
  },
  {
   "cell_type": "code",
   "execution_count": 6,
   "metadata": {},
   "outputs": [
    {
     "name": "stdout",
     "output_type": "stream",
     "text": [
      "28.933467741935484 61.4781512605042\n"
     ]
    }
   ],
   "source": [
    "cov_fem = dados_fem.Anos.cov(dados_fem.Salario)\n",
    "cov_masc = dados_masc.Anos.cov(dados_masc.Salario)\n",
    "\n",
    "print(cov_fem, cov_masc)"
   ]
  },
  {
   "cell_type": "markdown",
   "metadata": {},
   "source": [
    "<div id=\"ex4\"></div>\n",
    "\n",
    "### EXERCÍCIO 4:\n",
    "\n",
    "Baseando-se nos **coeficientes de covariância** acima, você pode concluir que (indique todas as opções corretas):\n",
    "\n",
    "<ol style=\"list-style-type: upper-alpha;\">\n",
    "    <li>Existe uma associação linear <b>negativa</b> entre os <code>Anos</code> na empresa e o <code>Salario</code> das mulheres</li>\n",
    "    <li>Existe uma associação linear <b>negativa</b> entre os <code>Anos</code> na empresa e o <code>Salario</code> dos homens</li>\n",
    "    <li>Existe uma associação linear <b>positiva</b> entre os <code>Anos</code> na empresa e o <code>Salario</code> das mulheres</li>\n",
    "    <li>Existe uma associação linear <b>positiva</b> entre os <code>Anos</code> na empresa e o <code>Salario</code> dos homens</li>\n",
    "    <li>Existe uma associação linear <b>fraca</b> entre os <code>Anos</code> na empresa e o <code>Salario</code> das mulheres</li>\n",
    "    <li>Existe uma associação linear <b>fraca</b> entre os <code>Anos</code> na empresa e o <code>Salario</code> dos homens</li>\n",
    "    <li>Existe uma associação linear <b>moderada/forte</b> entre os <code>Anos</code> na empresa e o <code>Salario</code> das mulheres</li>\n",
    "    <li>Existe uma associação linear <b>moderada/forte</b> entre os <code>Anos</code> na empresa e o <code>Salario</code> dos homens</li>\n",
    "</ol>\n",
    "\n",
    "**Indique sua resposta na questão 3 da APS2, no Blackboard.**"
   ]
  },
  {
   "cell_type": "raw",
   "metadata": {},
   "source": [
    "F, F, V, V, F, F, V, V"
   ]
  },
  {
   "cell_type": "markdown",
   "metadata": {},
   "source": [
    "<div id=\"ex5\"></div>\n",
    "\n",
    "### EXERCÍCIO 5:\n",
    "\n",
    "Calcule os coeficientes de correlação linear entre as variáveis `Anos` e `Salario` para as mulheres e para os homens, separadamente. **Preencha os dois valores na questão 4 da APS2, no Blackboard**."
   ]
  },
  {
   "cell_type": "code",
   "execution_count": 7,
   "metadata": {},
   "outputs": [
    {
     "name": "stdout",
     "output_type": "stream",
     "text": [
      "0.8022389898226462 0.6739986401774646\n"
     ]
    }
   ],
   "source": [
    "corr_fem = dados_fem.Anos.corr(dados_fem.Salario)\n",
    "corr_masc = dados_masc.Anos.corr(dados_masc.Salario)\n",
    "\n",
    "print(corr_fem, corr_masc)"
   ]
  },
  {
   "cell_type": "markdown",
   "metadata": {},
   "source": [
    "<div id=\"ex6\"></div>\n",
    "\n",
    "### EXERCÍCIO 6:\n",
    "\n",
    "Baseando-se nos **coeficientes de correlação linear** acima, você pode concluir que (indique todas as opções corretas):\n",
    "\n",
    "<ol style=\"list-style-type: upper-alpha;\">\n",
    "    <li>Existe uma associação linear <b>negativa</b> entre os <code>Anos</code> na empresa e o <code>Salario</code> das mulheres</li>\n",
    "    <li>Existe uma associação linear <b>negativa</b> entre os <code>Anos</code> na empresa e o <code>Salario</code> dos homens</li>\n",
    "    <li>Existe uma associação linear <b>positiva</b> entre os <code>Anos</code> na empresa e o <code>Salario</code> das mulheres</li>\n",
    "    <li>Existe uma associação linear <b>positiva</b> entre os <code>Anos</code> na empresa e o <code>Salario</code> dos homens</li>\n",
    "    <li>Existe uma associação linear <b>fraca</b> entre os <code>Anos</code> na empresa e o <code>Salario</code> das mulheres</li>\n",
    "    <li>Existe uma associação linear <b>fraca</b> entre os <code>Anos</code> na empresa e o <code>Salario</code> dos homens</li>\n",
    "    <li>Existe uma associação linear <b>moderada/forte</b> entre os <code>Anos</code> na empresa e o <code>Salario</code> das mulheres</li>\n",
    "    <li>Existe uma associação linear <b>moderada/forte</b> entre os <code>Anos</code> na empresa e o <code>Salario</code> dos homens</li>\n",
    "</ol>\n",
    "\n",
    "**Indique sua resposta na questão 5 da APS2, no Blackboard.**"
   ]
  },
  {
   "cell_type": "raw",
   "metadata": {},
   "source": [
    "F, F, V, V, F, F, V, V"
   ]
  },
  {
   "cell_type": "markdown",
   "metadata": {},
   "source": [
    "<div id=\"ex7\"></div>\n",
    "\n",
    "### EXERCÍCIO 7:\n",
    "\n",
    "Gere os gráficos de dispersão de anos na empresa versus salário mensal para as mulheres e para os homens. Utilize cores diferentes para cada grupo e gere o gráfico em **uma figura única**."
   ]
  },
  {
   "cell_type": "code",
   "execution_count": 8,
   "metadata": {},
   "outputs": [],
   "source": [
    "# Escreva seu código aqui"
   ]
  },
  {
   "cell_type": "markdown",
   "metadata": {},
   "source": [
    "<div id=\"ex8\"></div>\n",
    "\n",
    "### EXERCÍCIO 8:\n",
    "\n",
    "Como as informações do gráfico acima se relacionam às suas hipóteses no [exercício 2](#ex2)? Você mudaria a sua opinião quanto à suspeita de discriminação salarial? Explique."
   ]
  },
  {
   "cell_type": "raw",
   "metadata": {},
   "source": [
    "ESCREVA AQUI SUA RESPOSTA"
   ]
  },
  {
   "cell_type": "markdown",
   "metadata": {},
   "source": [
    "<div id=\"ex9\"></div>\n",
    "\n",
    "### EXERCÍCIO 9 [EXTRA]:\n",
    "\n",
    "Vamos analisar os dados divididos por faixas de anos na empresa. Crie uma nova coluna `'Faixa'` em `dados` contendo as faixas de anos na empresa. Divida a variável `Anos` em tantas faixas necessárias necessárias para iniciar em 0 (inclusive) e terminar em 30 (exclusive) com amplitude das faixas de 3 anos. *Dica: use a função `pd.cut` e altere alguns argumentos dessa função*.\n"
   ]
  },
  {
   "cell_type": "code",
   "execution_count": 9,
   "metadata": {},
   "outputs": [],
   "source": [
    "# Escreva seu código aqui"
   ]
  },
  {
   "cell_type": "markdown",
   "metadata": {},
   "source": [
    "<div id=\"ex10\"></div>\n",
    "\n",
    "### EXERCÍCIO 10 &#x2605;&#x2605;&#x2605; [EXTRA]:\n",
    "\n",
    "Imprima as mesmas estatísticas do [exercício 1](#ex1) (salários de todas as pessoas da base de dados, salários das mulheres e salários dos homens), mas agora agrupando por `Faixa`. Dica: use a função `.groupby` de um `DataFrame`."
   ]
  },
  {
   "cell_type": "code",
   "execution_count": 10,
   "metadata": {},
   "outputs": [],
   "source": [
    "# Escreva seu código aqui"
   ]
  },
  {
   "cell_type": "markdown",
   "metadata": {},
   "source": [
    "<div id=\"ex11\"></div>\n",
    "\n",
    "### EXERCÍCIO 11 [EXTRA]:\n",
    "\n",
    "O resultado acima dá indícios para confirmar ou rejeitar a sua hipótese do [exercício 8](#ex8)?"
   ]
  },
  {
   "cell_type": "raw",
   "metadata": {},
   "source": [
    "ESCREVA AQUI SUA RESPOSTA"
   ]
  }
 ],
 "metadata": {
  "anaconda-cloud": {},
  "kernelspec": {
   "display_name": "Python 3.9.7 ('base')",
   "language": "python",
   "name": "python3"
  },
  "language_info": {
   "codemirror_mode": {
    "name": "ipython",
    "version": 3
   },
   "file_extension": ".py",
   "mimetype": "text/x-python",
   "name": "python",
   "nbconvert_exporter": "python",
   "pygments_lexer": "ipython3",
   "version": "3.9.7"
  },
  "vscode": {
   "interpreter": {
    "hash": "665796ea3363072d3a6057ac2fdbe3c4fcb0d17a4b92295d9707f78e9c46c0af"
   }
  }
 },
 "nbformat": 4,
 "nbformat_minor": 2
}
