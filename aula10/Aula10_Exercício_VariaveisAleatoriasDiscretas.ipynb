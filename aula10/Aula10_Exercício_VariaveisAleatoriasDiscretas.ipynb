{
 "cells": [
  {
   "cell_type": "markdown",
   "metadata": {},
   "source": [
    "___\n",
    "# Exercício: Variáveis aleatórias discretas\n",
    "___\n",
    "\n",
    "## Aula 10"
   ]
  },
  {
   "cell_type": "markdown",
   "metadata": {},
   "source": [
    "<div id=\"indice\"></div>\n",
    "\n",
    "## Índice\n",
    "\n",
    "  - [Exercício 1](#ex1) **- APS5 disponível no Blackboard**\n",
    "  - [Exercício 2](#ex2)\n",
    "  - [Exercício 3](#ex3) **- APS5 disponível no Blackboard**"
   ]
  },
  {
   "cell_type": "markdown",
   "metadata": {},
   "source": [
    "___\n",
    "<div id=\"ex1\"></div>\n",
    "\n",
    "### EXERCÍCIO 1\n",
    "\n",
    "Um rapaz está pensando em convidar sua namorada para sair. O problema é que as despesas correm por sua conta. \n",
    "\n",
    "Eles podem ir ao cinema ou ao teatro. 70% das vezes ela prefere ir ao cinema, nesse caso, ele gasta 70.00 com os ingressos. \n",
    "Quando eles vão ao teatro, o gasto fica em 190.00. \n",
    "\n",
    "Se eles forem ao cinema, ele sabe que em 80% das vezes ela pede para ir jantar, a despesa adicional do jantar fica em 130.00; 20% das vezes, eles vão direto para casa. \n",
    "\n",
    "Levando a namorada ao teatro, em 40% das vezes ela pede para ir jantar e 60% das vezes eles vão direto para casa. \n",
    "\n",
    "a) Qual a distribuição de probabilidades do gasto que o rapaz tem com a namorada? Use a letra $G$ para variável gasto do rapaz com a namorada."
   ]
  },
  {
   "cell_type": "code",
   "execution_count": 7,
   "metadata": {},
   "outputs": [],
   "source": [
    "P_C = 0.7\n",
    "P_Cc = 1 - P_C\n",
    "\n",
    "preco_C = 70\n",
    "preco_Cc = 190\n",
    "\n",
    "P_J_dado_C = 0.8\n",
    "P_Jc_dado_C = 1 - P_J_dado_C\n",
    "\n",
    "P_J_dado_Cc = 0.4\n",
    "P_Jc_dado_Cc = 1 -P_J_dado_Cc\n",
    "\n",
    "preco_J = 130\n",
    "\n",
    "C_J = P_C * P_J_dado_C\n",
    "C_Jc = P_C * P_Jc_dado_C\n",
    "\n",
    "Cc_J = P_Cc * P_J_dado_Cc\n",
    "Cc_Jc = P_Cc * P_Jc_dado_Cc"
   ]
  },
  {
   "cell_type": "markdown",
   "metadata": {},
   "source": [
    "b) Qual o gasto médio? E o seu desvio-padrão?\n",
    "\n",
    "*Resposta esperada para média e desvio padrão respectivamente: 194.4 ; 63.87988728856681*"
   ]
  },
  {
   "cell_type": "code",
   "execution_count": 16,
   "metadata": {},
   "outputs": [
    {
     "data": {
      "text/plain": [
       "63.87988728856681"
      ]
     },
     "execution_count": 16,
     "metadata": {},
     "output_type": "execute_result"
    }
   ],
   "source": [
    "media = (C_J * (preco_C + preco_J) + C_Jc * preco_C + Cc_J * (preco_Cc + preco_J) + Cc_Jc * preco_Cc)\n",
    "desvipad = ((preco_C + preco_J - media)**2*C_J + (preco_C - media)**2*C_Jc + (preco_Cc + preco_J - media)**2*Cc_J + (preco_Cc - media)**2*Cc_Jc)**(1/2)\n",
    "desvipad\n",
    "\n",
    "\n"
   ]
  },
  {
   "cell_type": "markdown",
   "metadata": {},
   "source": [
    "c) Com a inflação deste ano, o gasto total aumentou até agora 9.00, mas com a crise geral, o casal resolveu reduzir esse novo gasto total em 15%. Calcule o novo gasto médio e respectivo desvio padrão. Chame o novo gasto de $Y$.\n"
   ]
  },
  {
   "cell_type": "code",
   "execution_count": 21,
   "metadata": {},
   "outputs": [
    {
     "name": "stdout",
     "output_type": "stream",
     "text": [
      "7.650000000000068 61.94790419528179\n"
     ]
    }
   ],
   "source": [
    "n_media = (media + 9)*0.85\n",
    "n_desvipad = (desvipad + 9)*0.85\n",
    "\n",
    "print(n_media, n_desvipad)"
   ]
  },
  {
   "cell_type": "markdown",
   "metadata": {},
   "source": [
    "___\n",
    "<div id=\"ex2\"></div>\n",
    "\n",
    "### EXERCÍCIO 2 - extraído de Montgomery e Runger\n",
    "\n",
    "*Exercício 3-33*\n",
    "\n",
    "Um arranjo consiste em três componentes mecânicos.\n",
    "\n",
    "Suponha que as probabilidades de o primeiro, o segundo e o terceiro componentes satisfazerem as especificações sejam iguais a 0,95; 0,98 e 0,99.\n",
    "\n",
    "Considere que os componentes sejam independentes.\n",
    "\n",
    "Construa a distribuição de probabilidades do número de componentes no arranjo que satisfazem as especificações.\n"
   ]
  },
  {
   "cell_type": "code",
   "execution_count": 5,
   "metadata": {},
   "outputs": [],
   "source": [
    "# ESCREVA SEU CÓDIGO AQUI"
   ]
  },
  {
   "cell_type": "markdown",
   "metadata": {},
   "source": [
    "___\n",
    "<div id=\"ex3\"></div>\n",
    "\n",
    "### EXERCÍCIO 3 - extraído de Montgomery e Runger\n",
    "\n",
    "*Exercício 3-67*\n",
    "\n",
    "O sistema de controle aéreo, chamado PASS (Primary Avionics Software Set), do ônibus espacial usa quatro computadores independentes trabalhando em paralelo. \n",
    "\n",
    "Em cada etapa crítica, os computadores “votam” para determinar a etapa apropriada. A probabilidade de o computador pedir para manobrar para a esquerda quando uma manobra para a direita seria apropriada é de 0,0001. \n",
    "\n",
    "Seja X o número de computadores que votam em uma manobra para a esquerda quando uma manobra para a direita seria apropriada. \n",
    "\n",
    "Construa a distribuição de probabilidades de X. Calcule média e desvio padrão.\n"
   ]
  },
  {
   "cell_type": "markdown",
   "metadata": {},
   "source": [
    "Qual média de X? E o seu desvio-padrão?"
   ]
  },
  {
   "cell_type": "code",
   "execution_count": 2,
   "metadata": {},
   "outputs": [
    {
     "data": {
      "text/plain": [
       "0.0004"
      ]
     },
     "execution_count": 2,
     "metadata": {},
     "output_type": "execute_result"
    }
   ],
   "source": [
    "P_E = 0.0001\n",
    "P_Ec = 1 - P_E\n",
    "\n",
    "erro0 = P_Ec**4 \n",
    "erro1 = P_E * P_Ec**3 * 4\n",
    "erro2 = P_E**2 * P_Ec**2 * 6\n",
    "erro3 = P_E**3 * P_Ec * 4\n",
    "erro4 = P_E**4 \n",
    "\n",
    "media = erro0*0 + erro1*1 + erro2*2 + erro3*3 + erro4*4\n",
    "media"
   ]
  }
 ],
 "metadata": {
  "kernelspec": {
   "display_name": "Python 3.9.7 ('base')",
   "language": "python",
   "name": "python3"
  },
  "language_info": {
   "codemirror_mode": {
    "name": "ipython",
    "version": 3
   },
   "file_extension": ".py",
   "mimetype": "text/x-python",
   "name": "python",
   "nbconvert_exporter": "python",
   "pygments_lexer": "ipython3",
   "version": "3.9.7"
  },
  "vscode": {
   "interpreter": {
    "hash": "665796ea3363072d3a6057ac2fdbe3c4fcb0d17a4b92295d9707f78e9c46c0af"
   }
  }
 },
 "nbformat": 4,
 "nbformat_minor": 4
}
